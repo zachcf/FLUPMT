{
 "cells": [
  {
   "cell_type": "code",
   "execution_count": 15,
   "metadata": {
    "ExecuteTime": {
     "end_time": "2023-11-07T08:57:07.619638400Z",
     "start_time": "2023-11-07T08:57:07.600060600Z"
    },
    "collapsed": false
   },
   "outputs": [],
   "source": [
    "from Bio.Seq import Seq\n",
    "from Bio.SeqRecord import SeqRecord\n",
    "import pandas as pd\n",
    "from Bio.Blast.Applications import NcbipsiblastCommandline\n",
    "from Bio.Blast import NCBIXML\n",
    "type = \"H1N1\"\n",
    "from Bio import SeqIO"
   ]
  },
  {
   "cell_type": "code",
   "execution_count": 4,
   "metadata": {
    "ExecuteTime": {
     "end_time": "2023-11-04T08:07:51.072308500Z",
     "start_time": "2023-11-04T08:07:22.063106800Z"
    },
    "collapsed": false
   },
   "outputs": [
    {
     "name": "stdout",
     "output_type": "stream",
     "text": [
      "1991 2022\n"
     ]
    },
    {
     "data": {
      "text/plain": [
       "26874"
      ]
     },
     "execution_count": 4,
     "metadata": {},
     "output_type": "execute_result"
    }
   ],
   "source": [
    "\n",
    "# oriH = pd.read_excel(f'data/{type}/{type}_all.xlsx')\n",
    "# oriH[\"year\"] = oriH[\"time\"].dt.year\n",
    "# minY = oriH[\"year\"].min()\n",
    "# maxY = oriH[\"year\"].max()\n",
    "# print(minY,maxY)\n",
    "# allYArr = {}\n",
    "# for i in range(minY,maxY+1):\n",
    "#     allYArr[i] = []\n",
    "# my_records  = []\n",
    "# for i, j in oriH.iterrows():\n",
    "#     id = j[\"strain\"].replace(\" \",\"_\")\n",
    "#     allYArr[j[\"year\"]].append(SeqRecord(Seq(j[\"seq\"]),id=id,description=str(j[\"time\"])))\n",
    "#\n",
    "# from Bio import SeqIO\n",
    "# # for key in allYArr:\n",
    "# #     SeqIO.write(allYArr[key], f\"{type}_{key}.fasta\", \"fasta\")\n",
    "# SeqIO.write(allYArr[2022], f\"{type}_{2022}.fasta\", \"fasta\")"
   ]
  },
  {
   "cell_type": "code",
   "execution_count": 7,
   "metadata": {
    "collapsed": false
   },
   "outputs": [],
   "source": [
    "# from Bio.Blast.Applications import NcbipsiblastCommandline\n",
    "# y = 1999\n",
    "# blastPlant = f\"D:\\\\blast-BLAST_VERSION+\\\\bin\\\\psiblast.exe\"\n",
    "# db = f\"D:\\\\blast-BLAST_VERSION+\\database\\H1N1\\H1N1{y}DB\"\n",
    "# blastn_cline = NcbipsiblastCommandline(cmd=blastPlant,query=\"t1emp.fasta\", db=db, evalue=0.00001,outfmt=5, out=\"opuntia.xml\",max_target_seqs=5)\n",
    "#\n",
    "# print(blastn_cline())\n",
    "# result_handle = open(\"opuntia.xml\")\n",
    "# from Bio.Blast import NCBIXML\n",
    "# blast_records = NCBIXML.parse(result_handle)\n",
    "# for blast_record in blast_records:\n",
    "#     for alignment in blast_record.alignments:\n",
    "#         print ('name:', alignment.title)\n",
    "#         print ('name:', alignment.hsps[0].sbjct)\n",
    "# result_handle.close()"
   ]
  },
  {
   "cell_type": "code",
   "execution_count": 16,
   "metadata": {
    "ExecuteTime": {
     "end_time": "2023-11-07T08:57:31.993691300Z",
     "start_time": "2023-11-07T08:57:09.461875900Z"
    },
    "collapsed": false
   },
   "outputs": [
    {
     "data": {
      "text/plain": [
       "0              >A/Belgium/S00046/2017\n",
       "1             >A/La_Serena/76388/2015\n",
       "2              >A/Santiago/77846/2015\n",
       "3                ?/AstanaZVL/381/2018\n",
       "4               ?/Krasnoyarsk/61/2019\n",
       "                     ...             \n",
       "114266    _A/Ankara/5607/2016_(TR-26)\n",
       "114267          _A/Athens.GR/167/2015\n",
       "114268          _A/Osoorno/53068/2022\n",
       "114269         _A/Romania/544062/2022\n",
       "114270               a/Paris/798/2014\n",
       "Name: strain, Length: 114271, dtype: object"
      ]
     },
     "execution_count": 16,
     "metadata": {},
     "output_type": "execute_result"
    }
   ],
   "source": [
    "allData =pd.read_excel(f'data/{type}/{type}_all.xlsx')\n",
    "# allData[\"strain\"].replace(r'\\s+','_',regex=True,inplace=True)\n",
    "allData[\"strain\"]"
   ]
  },
  {
   "cell_type": "code",
   "execution_count": 17,
   "metadata": {
    "ExecuteTime": {
     "end_time": "2023-11-07T08:57:32.061436200Z",
     "start_time": "2023-11-07T08:57:31.993691300Z"
    },
    "collapsed": false
   },
   "outputs": [
    {
     "data": {
      "text/plain": [
       "{2017: 15650,\n",
       " 2015: 6222,\n",
       " 2018: 9535,\n",
       " 2019: 13701,\n",
       " 2016: 8172,\n",
       " 2022: 26874,\n",
       " 2014: 4990,\n",
       " 2006: 1024,\n",
       " 2005: 909,\n",
       " 2013: 2732,\n",
       " 2009: 1466,\n",
       " 2011: 2188,\n",
       " 2004: 917,\n",
       " 2008: 1616,\n",
       " 2012: 3644,\n",
       " 2020: 2359,\n",
       " 2010: 1530,\n",
       " 2021: 5386,\n",
       " 2003: 1085,\n",
       " 2002: 650,\n",
       " 1994: 130,\n",
       " 2007: 1237,\n",
       " 1993: 208,\n",
       " 1995: 153,\n",
       " 2001: 264,\n",
       " 1992: 114,\n",
       " 1999: 407,\n",
       " 1996: 204,\n",
       " 2000: 395,\n",
       " 1998: 246,\n",
       " 1997: 187,\n",
       " 1991: 76}"
      ]
     },
     "execution_count": 17,
     "metadata": {},
     "output_type": "execute_result"
    }
   ],
   "source": [
    "from collections import Counter\n",
    "time = allData[\"time\"].dt.year\n",
    "\n",
    "timeNum = dict(Counter(time))\n",
    "timeNum"
   ]
  },
  {
   "cell_type": "code",
   "execution_count": 18,
   "metadata": {
    "ExecuteTime": {
     "end_time": "2023-11-07T08:57:32.704800300Z",
     "start_time": "2023-11-07T08:57:32.045432200Z"
    },
    "collapsed": false
   },
   "outputs": [
    {
     "data": {
      "text/plain": [
       "{2003: 11,\n",
       " 2004: 3,\n",
       " 2005: 25,\n",
       " 2006: 14,\n",
       " 2007: 17,\n",
       " 2008: 18,\n",
       " 2009: 51,\n",
       " 2010: 45,\n",
       " 2011: 226,\n",
       " 2012: 882,\n",
       " 2013: 318,\n",
       " 2014: 685,\n",
       " 2015: 411,\n",
       " 2016: 92,\n",
       " 2017: 303,\n",
       " 2018: 81,\n",
       " 2019: 103,\n",
       " 2020: 64,\n",
       " 2021: 49,\n",
       " 2022: 1035}"
      ]
     },
     "execution_count": 18,
     "metadata": {},
     "output_type": "execute_result"
    }
   ],
   "source": [
    "rs = pd.read_excel(f\"data/{type}/{type}_preDom.xlsx\")\n",
    "from collections import Counter\n",
    "time = rs[\"ReportYear\"]\n",
    "\n",
    "timeNum = dict(Counter(time))\n",
    "timeNum"
   ]
  },
  {
   "cell_type": "code",
   "execution_count": 19,
   "metadata": {
    "ExecuteTime": {
     "end_time": "2023-11-07T08:57:39.294959900Z",
     "start_time": "2023-11-07T08:57:32.717838800Z"
    },
    "collapsed": false
   },
   "outputs": [
    {
     "name": "stdout",
     "output_type": "stream",
     "text": [
      "('', '')\n"
     ]
    },
    {
     "data": {
      "text/plain": [
       "0       A/Hong_Kong/1550/2002\n",
       "1            A/Egypt/130/2002\n",
       "2          A/Finland/170/2003\n",
       "3          A/Latvia/1506/2003\n",
       "4          A/Finland/300/2003\n",
       "                ...          \n",
       "996        A/England/602/2003\n",
       "997        A/England/587/2003\n",
       "998        A/England/909/2003\n",
       "999        A/England/492/2003\n",
       "1000       A/England/491/2003\n",
       "Name: strain, Length: 1001, dtype: object"
      ]
     },
     "execution_count": 19,
     "metadata": {},
     "output_type": "execute_result"
    }
   ],
   "source": [
    "import math\n",
    "\n",
    "blastPlant = f\"D:\\\\App\\\\blast-BLAST_VERSION+\\\\bin\\\\blastp.exe\"\n",
    "seqNum = 1000\n",
    "rsv = rs.values\n",
    "arrY = {}\n",
    "labelArr = []\n",
    "for i in range(2003,2023):\n",
    "    arrY[i] = []\n",
    "for r in rsv:\n",
    "    strain = r[0]\n",
    "    year = r[2]\n",
    "    if year<1999 :continue\n",
    "    seq = r[4]\n",
    "    arrY[year].append(SeqRecord(Seq(seq),id=strain,description=str(year)))\n",
    "    labelArr.append([strain,seq,year])\n",
    "for key in range(2003,2023):\n",
    "    SeqIO.write(arrY[key], \"temp.fasta\", \"fasta\")\n",
    "    db = f\"D:\\\\App\\\\blast-BLAST_VERSION+\\database\\\\{type}\\\\{type}{key}DB\"\n",
    "    max_sI = 0\n",
    "    ms = seqNum-timeNum[key]\n",
    "    if ms < 0:\n",
    "        continue\n",
    "    else:\n",
    "        ms = math.ceil(ms/timeNum[key]) \n",
    "    blastn_cline = NcbipsiblastCommandline(cmd=blastPlant,query=\"temp.fasta\", db=db, evalue=0.0001,outfmt=5, out=\"opuntia.xml\",max_target_seqs=ms)\n",
    "    print(blastn_cline())\n",
    "    result_handle = open(\"opuntia.xml\")\n",
    "    blast_records = NCBIXML.parse(result_handle)\n",
    "    for blast_record in blast_records:\n",
    "        for alignment in blast_record.alignments:\n",
    "            labelArr.append([alignment.hit_def.split(\" \")[0],alignment.hsps[0].sbjct,key])\n",
    "    result_handle.close()\n",
    "df = pd.DataFrame(labelArr, columns=['strain', \"seq\",\"year\"])\n",
    "df.drop_duplicates(subset=['strain', 'year'])\n",
    "df[\"strain\"]"
   ]
  },
  {
   "cell_type": "code",
   "execution_count": 20,
   "metadata": {
    "ExecuteTime": {
     "end_time": "2023-11-07T08:57:39.332577100Z",
     "start_time": "2023-11-07T08:57:39.299289800Z"
    },
    "collapsed": false
   },
   "outputs": [],
   "source": [
    "df = df.sort_values(by='year')\n",
    "\n",
    "df = df[df['seq'].str.len() == 566]\n",
    "\n",
    "df = df.reset_index(drop=True)\n"
   ]
  },
  {
   "cell_type": "code",
   "execution_count": 59,
   "metadata": {
    "ExecuteTime": {
     "end_time": "2023-11-04T15:28:17.367733100Z",
     "start_time": "2023-11-04T15:28:15.421867800Z"
    },
    "collapsed": false
   },
   "outputs": [],
   "source": [
    "df.to_excel(f\"data/{type}/{type}_labelData.xlsx\",index=False)"
   ]
  },
  {
   "cell_type": "code",
   "execution_count": 21,
   "metadata": {
    "ExecuteTime": {
     "end_time": "2023-11-07T08:59:22.018543700Z",
     "start_time": "2023-11-07T08:57:39.328531700Z"
    },
    "collapsed": false
   },
   "outputs": [
    {
     "name": "stdout",
     "output_type": "stream",
     "text": [
      "('', '')\n",
      "('', '')\n",
      "('', '')\n",
      "('', '')\n",
      "('', '')\n"
     ]
    }
   ],
   "source": [
    "seqs_len = 15\n",
    "time_seq = {}\n",
    "import random\n",
    "def searchBlast(year,seq_arr):\n",
    "    SeqIO.write(seq_arr, \"temp.fasta\", \"fasta\")\n",
    "    db = f\"D:\\\\App\\\\blast-BLAST_VERSION+\\database\\\\{type}\\\\{type}{year}DB\"\n",
    "    blastn_cline = NcbipsiblastCommandline(cmd=blastPlant,query=\"temp.fasta\", db=db, evalue=0.0001,outfmt=5,num_threads=8, out=\"temp.xml\",max_target_seqs=5)\n",
    "    print(blastn_cline())\n",
    "    result_handle = open(\"temp.xml\")\n",
    "\n",
    "    return result_handle\n",
    "def addseq(strain,year,seq):\n",
    "    if strain not in time_seq:\n",
    "        time_seq[strain] = {\n",
    "            \"year\":year,\n",
    "            \"seq\":seq,\n",
    "            \"preSeq\":[]\n",
    "        }\n",
    "        return True\n",
    "    else:\n",
    "        return False\n",
    "for i in range(2003,2023):\n",
    "    search_seq = df[df[\"year\"]==i]\n",
    "\n",
    "    seq_temparr = []\n",
    "    for s in search_seq.values:\n",
    "        # print(s)\n",
    "        if addseq(s[0],s[2],s[1]):\n",
    "            seq_temparr.append(SeqRecord(Seq(s[1]),id=s[0],description=str(s[2])))\n",
    "\n",
    "\n",
    "    for j in range(1,seqs_len):\n",
    "        nextY = i-j\n",
    "        if len(seq_temparr)==0: continue\n",
    "        # print(seq_temparr)\n",
    "        result_handle = searchBlast(nextY,seq_temparr)\n",
    "        blast_records = NCBIXML.parse(result_handle)\n",
    "        seq_temparr = []\n",
    "        for blast_record in blast_records:\n",
    "\n",
    "            strain_name = blast_record.query.split(\" \")[0]\n",
    "\n",
    "            controlNum = random.randint(1,3)\n",
    "            # sn = 0\n",
    "            for alignment in blast_record.alignments:\n",
    "\n",
    "\n",
    "                hit_strain = alignment.hit_def.split(\" \")[0]\n",
    "                hit_seq = alignment.hsps[0].sbjct\n",
    "                time_seq[strain_name][\"preSeq\"].append(hit_strain)\n",
    "\n",
    "                if addseq(hit_strain,nextY,hit_seq):\n",
    "                    seq_temparr.append(SeqRecord(Seq(hit_seq),id=hit_strain,description=str(nextY)))\n",
    "\n",
    "                else:\n",
    "                    continue\n",
    "            # print(seq_temparr)\n",
    "        result_handle.close()\n",
    "\n",
    "\n"
   ]
  },
  {
   "cell_type": "code",
   "execution_count": 22,
   "metadata": {
    "ExecuteTime": {
     "end_time": "2023-11-07T08:59:22.111979400Z",
     "start_time": "2023-11-07T08:59:22.018543700Z"
    },
    "collapsed": false
   },
   "outputs": [],
   "source": [
    "df1 = pd.DataFrame(time_seq)\n",
    "df1 = df1.T\n",
    "df1.index.name = 'strain'\n",
    "df1.reset_index(inplace=True)\n",
    "# df1 = pd.DataFrame(df1.values.T,columns=[\"strain\",\"year\",\"seq\",\"pre\"])\n",
    "# pd.melt(df1,var_name=[\"strain\",\"year\",\"seq\",\"pre\"])\n",
    "\n",
    "\n",
    "\n",
    "\n",
    "df1.to_excel(f\"{type}_data.xlsx\",index=False)"
   ]
  },
  {
   "cell_type": "code",
   "execution_count": 23,
   "metadata": {
    "ExecuteTime": {
     "end_time": "2023-11-07T09:00:27.408897800Z",
     "start_time": "2023-11-07T09:00:27.372879Z"
    },
    "collapsed": false
   },
   "outputs": [],
   "source": [
    "\n",
    "df1 = pd.read_excel(f\"{type}_data.xlsx\")"
   ]
  },
  {
   "cell_type": "code",
   "execution_count": 25,
   "metadata": {
    "ExecuteTime": {
     "end_time": "2023-11-07T09:00:31.589637800Z",
     "start_time": "2023-11-07T09:00:31.573331800Z"
    },
    "collapsed": false
   },
   "outputs": [
    {
     "data": {
      "text/plain": [
       "array(['A/New_York/256/1998,A/New_York/304/1998,A/New_York/249/1998,A/New_York/240/1998,A/New_York/254/1998',\n",
       "       'A/New_York/256/1998,A/New_York/304/1998,A/New_York/249/1998,A/New_York/224/1998,A/New_York/240/1998',\n",
       "       'A/New_York/256/1998,A/New_York/304/1998,A/New_York/249/1998,A/New_York/254/1998,A/New_York/224/1998',\n",
       "       'A/New_York/256/1998,A/New_York/304/1998,A/New_York/249/1998,A/New_York/254/1998,A/New_York/224/1998',\n",
       "       'A/New_York/256/1998,A/New_York/304/1998,A/New_York/249/1998,A/New_York/254/1998,A/New_York/224/1998',\n",
       "       'A/New_York/256/1998,A/New_York/304/1998,A/New_York/249/1998,A/New_York/254/1998,A/New_York/224/1998',\n",
       "       'A/New_York/256/1998,A/New_York/304/1998,A/New_York/249/1998,A/New_York/254/1998,A/New_York/224/1998',\n",
       "       'A/New_York/256/1998,A/New_York/304/1998,A/New_York/249/1998,A/New_York/224/1998,A/New_York/313/1998',\n",
       "       'A/New_York/256/1998,A/New_York/304/1998,A/New_York/249/1998,A/New_York/224/1998,A/New_York/313/1998',\n",
       "       'A/New_York/256/1998,A/New_York/304/1998,A/New_York/249/1998,A/New_York/224/1998,A/New_York/240/1998',\n",
       "       'A/New_York/256/1998,A/New_York/304/1998,A/New_York/249/1998,A/New_York/224/1998,A/New_York/240/1998',\n",
       "       'A/Malaysia/18128/1998,A/Malaysia/18121/1998,A/Malaysia/17998/1998,A/New_York/256/1998,A/New_York/304/1998',\n",
       "       'A/Malaysia/18128/1998,A/Malaysia/18121/1998,A/Malaysia/17998/1998,A/New_York/256/1998,A/New_York/304/1998',\n",
       "       'A/Malaysia/18128/1998,A/Malaysia/18121/1998,A/Malaysia/17998/1998,A/New_York/256/1998,A/New_York/304/1998',\n",
       "       'A/Malaysia/18128/1998,A/Malaysia/18121/1998,A/Malaysia/17998/1998,A/New_York/256/1998,A/New_York/304/1998',\n",
       "       'A/Malaysia/18128/1998,A/Malaysia/18121/1998,A/Malaysia/17998/1998,A/New_York/256/1998,A/New_York/304/1998',\n",
       "       '[]', '[]', '[]', '[]', '[]', '[]', '[]', '[]', '[]', '[]'],\n",
       "      dtype=object)"
      ]
     },
     "execution_count": 25,
     "metadata": {},
     "output_type": "execute_result"
    }
   ],
   "source": [
    "preArr = df1[\"preSeq\"].values\n",
    "from ast import literal_eval\n",
    "preArr\n",
    "\n"
   ]
  },
  {
   "cell_type": "code",
   "execution_count": 26,
   "metadata": {
    "ExecuteTime": {
     "end_time": "2023-11-07T09:00:36.820333300Z",
     "start_time": "2023-11-07T09:00:36.571602300Z"
    },
    "collapsed": false
   },
   "outputs": [],
   "source": [
    "pre = [[],[],[],[],[]]\n",
    "\n",
    "for pres in preArr:\n",
    "    # pres = literal_eval(pres)\n",
    "    pres = str(pres).split(\",\")\n",
    "    seq = allData[allData[\"strain\"].isin(pres)][\"seq\"]\n",
    "    if len(seq)==5:\n",
    "\n",
    "        for i in range(5):\n",
    "            pre[i].append(seq.values[i])\n",
    "    else:\n",
    "        if len(seq)>0:\n",
    "            pre[0].append(seq.values[0])\n",
    "        else:\n",
    "            pre[0].append(\"\")\n",
    "        for i in range(1,5):\n",
    "            pre[i].append(\"\")\n",
    "\n",
    "df1[\"s1\"] = pre[0]\n",
    "df1[\"s2\"] = pre[1]\n",
    "df1[\"s3\"] = pre[2]\n",
    "df1[\"s4\"] = pre[3]\n",
    "df1[\"s5\"] = pre[4]"
   ]
  },
  {
   "cell_type": "code",
   "execution_count": 27,
   "metadata": {
    "ExecuteTime": {
     "end_time": "2023-11-07T09:00:39.059875800Z",
     "start_time": "2023-11-07T09:00:39.007562800Z"
    },
    "collapsed": false
   },
   "outputs": [],
   "source": [
    "\n",
    "df1.to_excel(f\"{type}_data.xlsx\",index=False)"
   ]
  },
  {
   "cell_type": "code",
   "execution_count": 52,
   "metadata": {
    "ExecuteTime": {
     "end_time": "2023-11-04T14:44:55.257576100Z",
     "start_time": "2023-11-04T14:44:45.531812300Z"
    },
    "collapsed": false
   },
   "outputs": [],
   "source": [
    "# dfl = pd.read_excel(f\"data/{type}/{type}_labelData.xlsx\")\n",
    "# dfl = dfl.merge(df1, left_on=\"strain\", right_on=\"strain\", how=\"left\")\n",
    "# # dfl.drop(['cyear'], axis=1, inplace=True)\n",
    "# dfl.to_excel(f\"data/{type}/{type}_data.xlsx\",index=False)"
   ]
  },
  {
   "cell_type": "code",
   "execution_count": null,
   "metadata": {
    "collapsed": false
   },
   "outputs": [],
   "source": []
  }
 ],
 "metadata": {
  "kernelspec": {
   "display_name": "Python 3",
   "language": "python",
   "name": "python3"
  },
  "language_info": {
   "codemirror_mode": {
    "name": "ipython",
    "version": 3
   },
   "file_extension": ".py",
   "mimetype": "text/x-python",
   "name": "python",
   "nbconvert_exporter": "python",
   "pygments_lexer": "ipython3",
   "version": "3.8.8"
  }
 },
 "nbformat": 4,
 "nbformat_minor": 0
}
